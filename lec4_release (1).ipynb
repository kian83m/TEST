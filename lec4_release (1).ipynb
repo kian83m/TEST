{
 "cells": [
  {
   "cell_type": "markdown",
   "metadata": {
    "id": "59JNiBJLNAPU"
   },
   "source": [
    "# Fundamentals of Machine Learning Part 1"
   ]
  },
  {
   "cell_type": "markdown",
   "metadata": {
    "id": "aSnixRZaNAPY"
   },
   "source": [
    "### NETID: km777"
   ]
  },
  {
   "cell_type": "markdown",
   "metadata": {
    "id": "MOHtgQzV1GFu"
   },
   "source": [
    "### Problems\n",
    "- Problem 1 (1 point)\n",
    "- Problem 2 (4 points)\n",
    "- Problem 3 (2 points)\n",
    "- Problem 4 (3 points)"
   ]
  },
  {
   "cell_type": "code",
   "execution_count": 1,
   "metadata": {
    "id": "LWOnoD1pNAPY"
   },
   "outputs": [],
   "source": [
    "import numpy as np\n",
    "import pandas as pd\n",
    "import sklearn\n",
    "from sklearn.linear_model import LinearRegression\n",
    "from sklearn.model_selection import train_test_split\n",
    "import matplotlib.pyplot as plt"
   ]
  },
  {
   "cell_type": "code",
   "execution_count": 2,
   "metadata": {
    "id": "4P6bU18SNAPa"
   },
   "outputs": [],
   "source": [
    "# Import the data. Make sure that lecture4data.csv is in the same folder as this file!\n",
    "original_data = pd.read_csv('lecture4data.csv')"
   ]
  },
  {
   "cell_type": "markdown",
   "metadata": {
    "id": "KbRhscTyNAPb"
   },
   "source": []
  },
  {
   "cell_type": "markdown",
   "metadata": {
    "id": "Y-mfyyLUNAPb"
   },
   "source": [
    "# Problem  1 (1 point): Python Practice"
   ]
  },
  {
   "cell_type": "code",
   "execution_count": 3,
   "metadata": {
    "id": "n03_CkLkNAPc"
   },
   "outputs": [],
   "source": [
    "problem_1_data = original_data.copy()"
   ]
  },
  {
   "cell_type": "markdown",
   "metadata": {
    "id": "TdKOhS0qNAPd"
   },
   "source": [
    "### a) Print out the first few rows of `problem_1_data`"
   ]
  },
  {
   "cell_type": "code",
   "execution_count": 4,
   "metadata": {
    "colab": {
     "base_uri": "https://localhost:8080/",
     "height": 204
    },
    "executionInfo": {
     "elapsed": 158,
     "status": "ok",
     "timestamp": 1647004708507,
     "user": {
      "displayName": "Kelly Lu",
      "photoUrl": "https://lh3.googleusercontent.com/a-/AOh14GhBJOcWEOJSq7Sac1aULmBnym_h98gIkXWAKxFC=s64",
      "userId": "13804689239916936151"
     },
     "user_tz": 300
    },
    "id": "xyAyyjQ8NAPe",
    "outputId": "d015034a-42b5-4c39-8344-ca0221465d81"
   },
   "outputs": [
    {
     "data": {
      "text/html": [
       "<div>\n",
       "<style scoped>\n",
       "    .dataframe tbody tr th:only-of-type {\n",
       "        vertical-align: middle;\n",
       "    }\n",
       "\n",
       "    .dataframe tbody tr th {\n",
       "        vertical-align: top;\n",
       "    }\n",
       "\n",
       "    .dataframe thead th {\n",
       "        text-align: right;\n",
       "    }\n",
       "</style>\n",
       "<table border=\"1\" class=\"dataframe\">\n",
       "  <thead>\n",
       "    <tr style=\"text-align: right;\">\n",
       "      <th></th>\n",
       "      <th>name</th>\n",
       "      <th>city</th>\n",
       "      <th>state</th>\n",
       "      <th>adm_rate</th>\n",
       "      <th>undergrads</th>\n",
       "      <th>cost</th>\n",
       "      <th>compl_4</th>\n",
       "      <th>median_hh_inc</th>\n",
       "      <th>median_earnings</th>\n",
       "    </tr>\n",
       "  </thead>\n",
       "  <tbody>\n",
       "    <tr>\n",
       "      <th>0</th>\n",
       "      <td>Alabama A &amp; M University</td>\n",
       "      <td>Normal</td>\n",
       "      <td>AL</td>\n",
       "      <td>0.6538</td>\n",
       "      <td>4505</td>\n",
       "      <td>20809</td>\n",
       "      <td>0.1104</td>\n",
       "      <td>49720.22</td>\n",
       "      <td>29900</td>\n",
       "    </tr>\n",
       "    <tr>\n",
       "      <th>1</th>\n",
       "      <td>University of Alabama at Birmingham</td>\n",
       "      <td>Birmingham</td>\n",
       "      <td>AL</td>\n",
       "      <td>0.6043</td>\n",
       "      <td>11269</td>\n",
       "      <td>22232</td>\n",
       "      <td>0.3173</td>\n",
       "      <td>55735.22</td>\n",
       "      <td>40200</td>\n",
       "    </tr>\n",
       "    <tr>\n",
       "      <th>2</th>\n",
       "      <td>University of Alabama in Huntsville</td>\n",
       "      <td>Huntsville</td>\n",
       "      <td>AL</td>\n",
       "      <td>0.8120</td>\n",
       "      <td>5829</td>\n",
       "      <td>20999</td>\n",
       "      <td>0.1848</td>\n",
       "      <td>58688.62</td>\n",
       "      <td>45600</td>\n",
       "    </tr>\n",
       "    <tr>\n",
       "      <th>3</th>\n",
       "      <td>Alabama State University</td>\n",
       "      <td>Montgomery</td>\n",
       "      <td>AL</td>\n",
       "      <td>0.4639</td>\n",
       "      <td>4740</td>\n",
       "      <td>18100</td>\n",
       "      <td>0.1216</td>\n",
       "      <td>46065.20</td>\n",
       "      <td>26700</td>\n",
       "    </tr>\n",
       "    <tr>\n",
       "      <th>4</th>\n",
       "      <td>The University of Alabama</td>\n",
       "      <td>Tuscaloosa</td>\n",
       "      <td>AL</td>\n",
       "      <td>0.5359</td>\n",
       "      <td>31005</td>\n",
       "      <td>27205</td>\n",
       "      <td>0.4135</td>\n",
       "      <td>57928.41</td>\n",
       "      <td>42700</td>\n",
       "    </tr>\n",
       "  </tbody>\n",
       "</table>\n",
       "</div>"
      ],
      "text/plain": [
       "                                  name        city state  adm_rate  \\\n",
       "0             Alabama A & M University      Normal    AL    0.6538   \n",
       "1  University of Alabama at Birmingham  Birmingham    AL    0.6043   \n",
       "2  University of Alabama in Huntsville  Huntsville    AL    0.8120   \n",
       "3             Alabama State University  Montgomery    AL    0.4639   \n",
       "4            The University of Alabama  Tuscaloosa    AL    0.5359   \n",
       "\n",
       "   undergrads   cost  compl_4  median_hh_inc  median_earnings  \n",
       "0        4505  20809   0.1104       49720.22            29900  \n",
       "1       11269  22232   0.3173       55735.22            40200  \n",
       "2        5829  20999   0.1848       58688.62            45600  \n",
       "3        4740  18100   0.1216       46065.20            26700  \n",
       "4       31005  27205   0.4135       57928.41            42700  "
      ]
     },
     "execution_count": 4,
     "metadata": {},
     "output_type": "execute_result"
    }
   ],
   "source": [
    "problem_1_data.head()"
   ]
  },
  {
   "cell_type": "markdown",
   "metadata": {
    "id": "fQn_Tt-INAPe"
   },
   "source": [
    "### b) Add a new column to `problem_1_data` called `education_profit_ratio` that holds each schools' `median_earnings` divided by its `cost`."
   ]
  },
  {
   "cell_type": "code",
   "execution_count": 5,
   "metadata": {
    "colab": {
     "base_uri": "https://localhost:8080/",
     "height": 539
    },
    "executionInfo": {
     "elapsed": 125,
     "status": "ok",
     "timestamp": 1647004758587,
     "user": {
      "displayName": "Kelly Lu",
      "photoUrl": "https://lh3.googleusercontent.com/a-/AOh14GhBJOcWEOJSq7Sac1aULmBnym_h98gIkXWAKxFC=s64",
      "userId": "13804689239916936151"
     },
     "user_tz": 300
    },
    "id": "cui2rel9NAPf",
    "outputId": "544928a9-de9a-4b33-fee6-1e4bc85cf1e5"
   },
   "outputs": [
    {
     "data": {
      "text/html": [
       "<div>\n",
       "<style scoped>\n",
       "    .dataframe tbody tr th:only-of-type {\n",
       "        vertical-align: middle;\n",
       "    }\n",
       "\n",
       "    .dataframe tbody tr th {\n",
       "        vertical-align: top;\n",
       "    }\n",
       "\n",
       "    .dataframe thead th {\n",
       "        text-align: right;\n",
       "    }\n",
       "</style>\n",
       "<table border=\"1\" class=\"dataframe\">\n",
       "  <thead>\n",
       "    <tr style=\"text-align: right;\">\n",
       "      <th></th>\n",
       "      <th>name</th>\n",
       "      <th>city</th>\n",
       "      <th>state</th>\n",
       "      <th>adm_rate</th>\n",
       "      <th>undergrads</th>\n",
       "      <th>cost</th>\n",
       "      <th>compl_4</th>\n",
       "      <th>median_hh_inc</th>\n",
       "      <th>median_earnings</th>\n",
       "      <th>education_profit_ratio</th>\n",
       "    </tr>\n",
       "  </thead>\n",
       "  <tbody>\n",
       "    <tr>\n",
       "      <th>0</th>\n",
       "      <td>Alabama A &amp; M University</td>\n",
       "      <td>Normal</td>\n",
       "      <td>AL</td>\n",
       "      <td>0.6538</td>\n",
       "      <td>4505</td>\n",
       "      <td>20809</td>\n",
       "      <td>0.1104</td>\n",
       "      <td>49720.22</td>\n",
       "      <td>29900</td>\n",
       "      <td>1.436878</td>\n",
       "    </tr>\n",
       "    <tr>\n",
       "      <th>1</th>\n",
       "      <td>University of Alabama at Birmingham</td>\n",
       "      <td>Birmingham</td>\n",
       "      <td>AL</td>\n",
       "      <td>0.6043</td>\n",
       "      <td>11269</td>\n",
       "      <td>22232</td>\n",
       "      <td>0.3173</td>\n",
       "      <td>55735.22</td>\n",
       "      <td>40200</td>\n",
       "      <td>1.808204</td>\n",
       "    </tr>\n",
       "    <tr>\n",
       "      <th>2</th>\n",
       "      <td>University of Alabama in Huntsville</td>\n",
       "      <td>Huntsville</td>\n",
       "      <td>AL</td>\n",
       "      <td>0.8120</td>\n",
       "      <td>5829</td>\n",
       "      <td>20999</td>\n",
       "      <td>0.1848</td>\n",
       "      <td>58688.62</td>\n",
       "      <td>45600</td>\n",
       "      <td>2.171532</td>\n",
       "    </tr>\n",
       "    <tr>\n",
       "      <th>3</th>\n",
       "      <td>Alabama State University</td>\n",
       "      <td>Montgomery</td>\n",
       "      <td>AL</td>\n",
       "      <td>0.4639</td>\n",
       "      <td>4740</td>\n",
       "      <td>18100</td>\n",
       "      <td>0.1216</td>\n",
       "      <td>46065.20</td>\n",
       "      <td>26700</td>\n",
       "      <td>1.475138</td>\n",
       "    </tr>\n",
       "    <tr>\n",
       "      <th>4</th>\n",
       "      <td>The University of Alabama</td>\n",
       "      <td>Tuscaloosa</td>\n",
       "      <td>AL</td>\n",
       "      <td>0.5359</td>\n",
       "      <td>31005</td>\n",
       "      <td>27205</td>\n",
       "      <td>0.4135</td>\n",
       "      <td>57928.41</td>\n",
       "      <td>42700</td>\n",
       "      <td>1.569564</td>\n",
       "    </tr>\n",
       "  </tbody>\n",
       "</table>\n",
       "</div>"
      ],
      "text/plain": [
       "                                  name        city state  adm_rate  \\\n",
       "0             Alabama A & M University      Normal    AL    0.6538   \n",
       "1  University of Alabama at Birmingham  Birmingham    AL    0.6043   \n",
       "2  University of Alabama in Huntsville  Huntsville    AL    0.8120   \n",
       "3             Alabama State University  Montgomery    AL    0.4639   \n",
       "4            The University of Alabama  Tuscaloosa    AL    0.5359   \n",
       "\n",
       "   undergrads   cost  compl_4  median_hh_inc  median_earnings  \\\n",
       "0        4505  20809   0.1104       49720.22            29900   \n",
       "1       11269  22232   0.3173       55735.22            40200   \n",
       "2        5829  20999   0.1848       58688.62            45600   \n",
       "3        4740  18100   0.1216       46065.20            26700   \n",
       "4       31005  27205   0.4135       57928.41            42700   \n",
       "\n",
       "   education_profit_ratio  \n",
       "0                1.436878  \n",
       "1                1.808204  \n",
       "2                2.171532  \n",
       "3                1.475138  \n",
       "4                1.569564  "
      ]
     },
     "execution_count": 5,
     "metadata": {},
     "output_type": "execute_result"
    }
   ],
   "source": [
    "problem_1_data['education_profit_ratio'] = problem_1_data['median_earnings'] / problem_1_data['cost']\n",
    "\n",
    "problem_1_data.head()"
   ]
  },
  {
   "cell_type": "markdown",
   "metadata": {
    "id": "LS2tm2HyNAPf"
   },
   "source": [
    "### c) (OPTIONAL) Briefly describe what `cost_single_brackets`, `cost_double_brackets`, and `multiple_columns` look like (what their shapes/dimensions are).\n",
    "\n",
    "<b>Hint</b>: You can use Python's `type` function to tell the type of an objective. For example, `print(type(dylanIsCool))` will print out the type of `dylanIsCool`. You can also try printing out the object to see what it looks like."
   ]
  },
  {
   "cell_type": "code",
   "execution_count": 6,
   "metadata": {
    "id": "CqhHfFUwNAPg"
   },
   "outputs": [
    {
     "name": "stdout",
     "output_type": "stream",
     "text": [
      "<class 'pandas.core.frame.DataFrame'>\n",
      "<class 'pandas.core.series.Series'>\n",
      "<class 'pandas.core.frame.DataFrame'>\n"
     ]
    }
   ],
   "source": [
    "multiple_columns = problem_1_data[['cost', 'median_earnings']]\n",
    "cost_single_brackets = problem_1_data['cost']\n",
    "cost_double_brackets = problem_1_data[['cost']]\n",
    "\n",
    "print(type(multiple_columns))\n",
    "print(type(cost_single_brackets))\n",
    "print(type(cost_double_brackets))"
   ]
  },
  {
   "cell_type": "markdown",
   "metadata": {
    "id": "KqX8AJR9NAPg"
   },
   "source": []
  },
  {
   "cell_type": "markdown",
   "metadata": {
    "id": "yvEDy3DrNAPg"
   },
   "source": [
    "# Basics of Machine Learning\n",
    "\n",
    "So far we have discussed the importance of data visualization and data preprocessing. These steps are important in preparing the datasets. Now, we will start our machine learning section of the course. We have already discussed how a machine learning model is like a function, and we will now explain a bit more using __linear regression__ models. Before we begin, we should import some useful python."
   ]
  },
  {
   "cell_type": "markdown",
   "metadata": {
    "id": "bwQ_7ZqaNAPh"
   },
   "source": [
    "This dataset contains information on different colleges across the US. The full dataset was assembled from https://collegescorecard.ed.gov/data/ and this version was trimmed down to a few important columns and cleaned to removed schools with missing data.\n",
    "\n",
    "We will look at adm_rate (admission rate), undergrads (number of undergrads), cost (cost to attand the college for a year), compl_4 (percent of students graduated in 4 years), median_hh_inc (median household income of students), and median_earnings (median earnings 10 years after starting college).\n",
    "\n",
    "We want to predict median_earnings using other columns in the data set. In other words, we have some inputs from the dataframe (such as cost), and we want to output another column in the dataframe (median_earnings)."
   ]
  },
  {
   "cell_type": "markdown",
   "metadata": {
    "id": "iklQ2xvNNAPh"
   },
   "source": [
    "# Section 1: Intro"
   ]
  },
  {
   "cell_type": "markdown",
   "metadata": {
    "id": "8FiqmRR_NAPi"
   },
   "source": [
    "To keep things clean throughout this Jupyter Notebook, in each section, we first make a copy of the original data. You won't have to do this in your own projects."
   ]
  },
  {
   "cell_type": "code",
   "execution_count": 7,
   "metadata": {
    "colab": {
     "base_uri": "https://localhost:8080/",
     "height": 371
    },
    "executionInfo": {
     "elapsed": 13,
     "status": "ok",
     "timestamp": 1646848775938,
     "user": {
      "displayName": "Kelly Lu",
      "photoUrl": "https://lh3.googleusercontent.com/a-/AOh14GhBJOcWEOJSq7Sac1aULmBnym_h98gIkXWAKxFC=s64",
      "userId": "13804689239916936151"
     },
     "user_tz": 300
    },
    "id": "bE4m-67hNAPi",
    "outputId": "f1746724-76c2-4242-bc6b-c16f2a4203d2"
   },
   "outputs": [
    {
     "data": {
      "text/html": [
       "<div>\n",
       "<style scoped>\n",
       "    .dataframe tbody tr th:only-of-type {\n",
       "        vertical-align: middle;\n",
       "    }\n",
       "\n",
       "    .dataframe tbody tr th {\n",
       "        vertical-align: top;\n",
       "    }\n",
       "\n",
       "    .dataframe thead th {\n",
       "        text-align: right;\n",
       "    }\n",
       "</style>\n",
       "<table border=\"1\" class=\"dataframe\">\n",
       "  <thead>\n",
       "    <tr style=\"text-align: right;\">\n",
       "      <th></th>\n",
       "      <th>name</th>\n",
       "      <th>city</th>\n",
       "      <th>state</th>\n",
       "      <th>adm_rate</th>\n",
       "      <th>undergrads</th>\n",
       "      <th>cost</th>\n",
       "      <th>compl_4</th>\n",
       "      <th>median_hh_inc</th>\n",
       "      <th>median_earnings</th>\n",
       "    </tr>\n",
       "  </thead>\n",
       "  <tbody>\n",
       "    <tr>\n",
       "      <th>0</th>\n",
       "      <td>Alabama A &amp; M University</td>\n",
       "      <td>Normal</td>\n",
       "      <td>AL</td>\n",
       "      <td>0.6538</td>\n",
       "      <td>4505</td>\n",
       "      <td>20809</td>\n",
       "      <td>0.1104</td>\n",
       "      <td>49720.22</td>\n",
       "      <td>29900</td>\n",
       "    </tr>\n",
       "    <tr>\n",
       "      <th>1</th>\n",
       "      <td>University of Alabama at Birmingham</td>\n",
       "      <td>Birmingham</td>\n",
       "      <td>AL</td>\n",
       "      <td>0.6043</td>\n",
       "      <td>11269</td>\n",
       "      <td>22232</td>\n",
       "      <td>0.3173</td>\n",
       "      <td>55735.22</td>\n",
       "      <td>40200</td>\n",
       "    </tr>\n",
       "    <tr>\n",
       "      <th>2</th>\n",
       "      <td>University of Alabama in Huntsville</td>\n",
       "      <td>Huntsville</td>\n",
       "      <td>AL</td>\n",
       "      <td>0.8120</td>\n",
       "      <td>5829</td>\n",
       "      <td>20999</td>\n",
       "      <td>0.1848</td>\n",
       "      <td>58688.62</td>\n",
       "      <td>45600</td>\n",
       "    </tr>\n",
       "    <tr>\n",
       "      <th>3</th>\n",
       "      <td>Alabama State University</td>\n",
       "      <td>Montgomery</td>\n",
       "      <td>AL</td>\n",
       "      <td>0.4639</td>\n",
       "      <td>4740</td>\n",
       "      <td>18100</td>\n",
       "      <td>0.1216</td>\n",
       "      <td>46065.20</td>\n",
       "      <td>26700</td>\n",
       "    </tr>\n",
       "    <tr>\n",
       "      <th>4</th>\n",
       "      <td>The University of Alabama</td>\n",
       "      <td>Tuscaloosa</td>\n",
       "      <td>AL</td>\n",
       "      <td>0.5359</td>\n",
       "      <td>31005</td>\n",
       "      <td>27205</td>\n",
       "      <td>0.4135</td>\n",
       "      <td>57928.41</td>\n",
       "      <td>42700</td>\n",
       "    </tr>\n",
       "  </tbody>\n",
       "</table>\n",
       "</div>"
      ],
      "text/plain": [
       "                                  name        city state  adm_rate  \\\n",
       "0             Alabama A & M University      Normal    AL    0.6538   \n",
       "1  University of Alabama at Birmingham  Birmingham    AL    0.6043   \n",
       "2  University of Alabama in Huntsville  Huntsville    AL    0.8120   \n",
       "3             Alabama State University  Montgomery    AL    0.4639   \n",
       "4            The University of Alabama  Tuscaloosa    AL    0.5359   \n",
       "\n",
       "   undergrads   cost  compl_4  median_hh_inc  median_earnings  \n",
       "0        4505  20809   0.1104       49720.22            29900  \n",
       "1       11269  22232   0.3173       55735.22            40200  \n",
       "2        5829  20999   0.1848       58688.62            45600  \n",
       "3        4740  18100   0.1216       46065.20            26700  \n",
       "4       31005  27205   0.4135       57928.41            42700  "
      ]
     },
     "execution_count": 7,
     "metadata": {},
     "output_type": "execute_result"
    }
   ],
   "source": [
    "section_1_data = original_data.copy()\n",
    "section_1_data.head()"
   ]
  },
  {
   "cell_type": "markdown",
   "metadata": {
    "id": "IsCNRjE2NAPi"
   },
   "source": [
    "Now, let's start machine learning! We'll choose a set of inputs, and then use machine learning to predict median_earnings using that set of inputs"
   ]
  },
  {
   "cell_type": "code",
   "execution_count": 8,
   "metadata": {
    "id": "SEbVnCBoNAPj"
   },
   "outputs": [],
   "source": [
    "inputs = section_1_data[['cost']]\n",
    "outputs = section_1_data['median_earnings']"
   ]
  },
  {
   "cell_type": "code",
   "execution_count": 9,
   "metadata": {
    "colab": {
     "base_uri": "https://localhost:8080/",
     "height": 224
    },
    "executionInfo": {
     "elapsed": 11,
     "status": "ok",
     "timestamp": 1646848775938,
     "user": {
      "displayName": "Kelly Lu",
      "photoUrl": "https://lh3.googleusercontent.com/a-/AOh14GhBJOcWEOJSq7Sac1aULmBnym_h98gIkXWAKxFC=s64",
      "userId": "13804689239916936151"
     },
     "user_tz": 300
    },
    "id": "fChXgRr-NAPj",
    "outputId": "f994edd4-37e4-4342-9ba7-c0dbe38fdfc9"
   },
   "outputs": [
    {
     "name": "stdout",
     "output_type": "stream",
     "text": [
      "<class 'pandas.core.frame.DataFrame'>\n"
     ]
    },
    {
     "data": {
      "text/html": [
       "<div>\n",
       "<style scoped>\n",
       "    .dataframe tbody tr th:only-of-type {\n",
       "        vertical-align: middle;\n",
       "    }\n",
       "\n",
       "    .dataframe tbody tr th {\n",
       "        vertical-align: top;\n",
       "    }\n",
       "\n",
       "    .dataframe thead th {\n",
       "        text-align: right;\n",
       "    }\n",
       "</style>\n",
       "<table border=\"1\" class=\"dataframe\">\n",
       "  <thead>\n",
       "    <tr style=\"text-align: right;\">\n",
       "      <th></th>\n",
       "      <th>cost</th>\n",
       "    </tr>\n",
       "  </thead>\n",
       "  <tbody>\n",
       "    <tr>\n",
       "      <th>0</th>\n",
       "      <td>20809</td>\n",
       "    </tr>\n",
       "    <tr>\n",
       "      <th>1</th>\n",
       "      <td>22232</td>\n",
       "    </tr>\n",
       "    <tr>\n",
       "      <th>2</th>\n",
       "      <td>20999</td>\n",
       "    </tr>\n",
       "    <tr>\n",
       "      <th>3</th>\n",
       "      <td>18100</td>\n",
       "    </tr>\n",
       "    <tr>\n",
       "      <th>4</th>\n",
       "      <td>27205</td>\n",
       "    </tr>\n",
       "  </tbody>\n",
       "</table>\n",
       "</div>"
      ],
      "text/plain": [
       "    cost\n",
       "0  20809\n",
       "1  22232\n",
       "2  20999\n",
       "3  18100\n",
       "4  27205"
      ]
     },
     "execution_count": 9,
     "metadata": {},
     "output_type": "execute_result"
    }
   ],
   "source": [
    "print(type(inputs))\n",
    "inputs.head(5)"
   ]
  },
  {
   "cell_type": "code",
   "execution_count": 10,
   "metadata": {
    "colab": {
     "base_uri": "https://localhost:8080/"
    },
    "executionInfo": {
     "elapsed": 8,
     "status": "ok",
     "timestamp": 1646848775938,
     "user": {
      "displayName": "Kelly Lu",
      "photoUrl": "https://lh3.googleusercontent.com/a-/AOh14GhBJOcWEOJSq7Sac1aULmBnym_h98gIkXWAKxFC=s64",
      "userId": "13804689239916936151"
     },
     "user_tz": 300
    },
    "id": "Whbh6XeRNAPj",
    "outputId": "82c24037-c3c4-4654-bf30-a4e529918848"
   },
   "outputs": [
    {
     "name": "stdout",
     "output_type": "stream",
     "text": [
      "<class 'pandas.core.series.Series'>\n"
     ]
    },
    {
     "data": {
      "text/plain": [
       "0    29900\n",
       "1    40200\n",
       "2    45600\n",
       "3    26700\n",
       "4    42700\n",
       "Name: median_earnings, dtype: int64"
      ]
     },
     "execution_count": 10,
     "metadata": {},
     "output_type": "execute_result"
    }
   ],
   "source": [
    "print(type(outputs))\n",
    "outputs[:5]"
   ]
  },
  {
   "cell_type": "code",
   "execution_count": 11,
   "metadata": {
    "id": "xDPtFmgcNAPj"
   },
   "outputs": [],
   "source": [
    "ML_object_that_predicts = LinearRegression()"
   ]
  },
  {
   "cell_type": "markdown",
   "metadata": {
    "id": "QpYpSM17NAPk"
   },
   "source": [
    "We called a function in sklearn called `LinearRegression` and stored the result in `ML_object_that_predicts`. `ML_object_that_predicts` is an object with several useful functions. You can access these functions through `ML_object_that_predicts.<insert function name here>`. As its name implies, we'll use these functions to make predictions.\n",
    "\n",
    "To do this, we're use the `fit` function and `predict` functions. We'll go into what fitting is later. To predict, give `ML_object_that_predicts` a set of inputs, and it'll spit out a set of predictions based on those inputs."
   ]
  },
  {
   "cell_type": "code",
   "execution_count": 12,
   "metadata": {
    "colab": {
     "base_uri": "https://localhost:8080/",
     "height": 363
    },
    "executionInfo": {
     "elapsed": 385,
     "status": "ok",
     "timestamp": 1646848776317,
     "user": {
      "displayName": "Kelly Lu",
      "photoUrl": "https://lh3.googleusercontent.com/a-/AOh14GhBJOcWEOJSq7Sac1aULmBnym_h98gIkXWAKxFC=s64",
      "userId": "13804689239916936151"
     },
     "user_tz": 300
    },
    "id": "tTCLGFTkNAPk",
    "outputId": "fa6c0f78-822c-412d-82e2-8afbaec1662e"
   },
   "outputs": [
    {
     "data": {
      "text/html": [
       "<div>\n",
       "<style scoped>\n",
       "    .dataframe tbody tr th:only-of-type {\n",
       "        vertical-align: middle;\n",
       "    }\n",
       "\n",
       "    .dataframe tbody tr th {\n",
       "        vertical-align: top;\n",
       "    }\n",
       "\n",
       "    .dataframe thead th {\n",
       "        text-align: right;\n",
       "    }\n",
       "</style>\n",
       "<table border=\"1\" class=\"dataframe\">\n",
       "  <thead>\n",
       "    <tr style=\"text-align: right;\">\n",
       "      <th></th>\n",
       "      <th>REAL median_income</th>\n",
       "      <th>PREDICTED median_income</th>\n",
       "    </tr>\n",
       "  </thead>\n",
       "  <tbody>\n",
       "    <tr>\n",
       "      <th>0</th>\n",
       "      <td>36200</td>\n",
       "      <td>35659.150942</td>\n",
       "    </tr>\n",
       "    <tr>\n",
       "      <th>1</th>\n",
       "      <td>42700</td>\n",
       "      <td>44239.451395</td>\n",
       "    </tr>\n",
       "    <tr>\n",
       "      <th>2</th>\n",
       "      <td>42500</td>\n",
       "      <td>37177.409277</td>\n",
       "    </tr>\n",
       "    <tr>\n",
       "      <th>3</th>\n",
       "      <td>42800</td>\n",
       "      <td>42462.534625</td>\n",
       "    </tr>\n",
       "    <tr>\n",
       "      <th>4</th>\n",
       "      <td>35200</td>\n",
       "      <td>45324.623556</td>\n",
       "    </tr>\n",
       "    <tr>\n",
       "      <th>5</th>\n",
       "      <td>45800</td>\n",
       "      <td>41478.088340</td>\n",
       "    </tr>\n",
       "    <tr>\n",
       "      <th>6</th>\n",
       "      <td>49200</td>\n",
       "      <td>48904.428228</td>\n",
       "    </tr>\n",
       "    <tr>\n",
       "      <th>7</th>\n",
       "      <td>31100</td>\n",
       "      <td>44439.499303</td>\n",
       "    </tr>\n",
       "    <tr>\n",
       "      <th>8</th>\n",
       "      <td>43900</td>\n",
       "      <td>36473.381025</td>\n",
       "    </tr>\n",
       "    <tr>\n",
       "      <th>9</th>\n",
       "      <td>21400</td>\n",
       "      <td>42818.760286</td>\n",
       "    </tr>\n",
       "  </tbody>\n",
       "</table>\n",
       "</div>"
      ],
      "text/plain": [
       "   REAL median_income  PREDICTED median_income\n",
       "0               36200             35659.150942\n",
       "1               42700             44239.451395\n",
       "2               42500             37177.409277\n",
       "3               42800             42462.534625\n",
       "4               35200             45324.623556\n",
       "5               45800             41478.088340\n",
       "6               49200             48904.428228\n",
       "7               31100             44439.499303\n",
       "8               43900             36473.381025\n",
       "9               21400             42818.760286"
      ]
     },
     "execution_count": 12,
     "metadata": {},
     "output_type": "execute_result"
    }
   ],
   "source": [
    "known_input, future_input, known_output, future_output = train_test_split(inputs, outputs, test_size=0.2, random_state=42)\n",
    "\n",
    "ML_object_that_predicts.fit(known_input, known_output) # tell it known stuff\n",
    "\n",
    "predictions = ML_object_that_predicts.predict(future_input) # given future input, predict future output!\n",
    "\n",
    "# compare actual median_earnings and the predicted median_earnings\n",
    "pd.DataFrame({\"REAL median_income\":future_output, \"PREDICTED median_income\":predictions}).reset_index(drop=True).head(10)"
   ]
  },
  {
   "cell_type": "markdown",
   "metadata": {
    "id": "4p2e7diqNAPk"
   },
   "source": [
    "Now we'll call the `score` function of `ML_object_that_predicts`. This returns a \"score\", which is a measure of how accurate the predictions are. The best score is 1, and negative scores are really bad."
   ]
  },
  {
   "cell_type": "code",
   "execution_count": 13,
   "metadata": {
    "colab": {
     "base_uri": "https://localhost:8080/"
    },
    "executionInfo": {
     "elapsed": 8,
     "status": "ok",
     "timestamp": 1646848776317,
     "user": {
      "displayName": "Kelly Lu",
      "photoUrl": "https://lh3.googleusercontent.com/a-/AOh14GhBJOcWEOJSq7Sac1aULmBnym_h98gIkXWAKxFC=s64",
      "userId": "13804689239916936151"
     },
     "user_tz": 300
    },
    "id": "M-xj3l38NAPk",
    "outputId": "eea26b3e-c513-4e6f-9fdf-e3638cd4aec9"
   },
   "outputs": [
    {
     "name": "stdout",
     "output_type": "stream",
     "text": [
      "Score: 0.17036266107284004\n"
     ]
    }
   ],
   "source": [
    "print(\"Score:\", ML_object_that_predicts.score(future_input, future_output))"
   ]
  },
  {
   "cell_type": "markdown",
   "metadata": {
    "id": "z12LbkFiNAPk"
   },
   "source": [
    "Let's quickly visualize what we just did. The blue points are the true values, and the black points (which are close together, so they look like a line) are our predictions. Our predictions aren't super accurate, but they're somewhat close for most points."
   ]
  },
  {
   "cell_type": "code",
   "execution_count": 14,
   "metadata": {
    "colab": {
     "base_uri": "https://localhost:8080/",
     "height": 295
    },
    "executionInfo": {
     "elapsed": 7,
     "status": "ok",
     "timestamp": 1646848776317,
     "user": {
      "displayName": "Kelly Lu",
      "photoUrl": "https://lh3.googleusercontent.com/a-/AOh14GhBJOcWEOJSq7Sac1aULmBnym_h98gIkXWAKxFC=s64",
      "userId": "13804689239916936151"
     },
     "user_tz": 300
    },
    "id": "PjdvWRPDNAPl",
    "outputId": "c747bb0a-0967-4b71-ce3b-5c16c7d4d30c"
   },
   "outputs": [
    {
     "data": {
      "image/png": "[encoded data removed]",
      "text/plain": [
       "<Figure size 640x480 with 1 Axes>"
      ]
     },
     "metadata": {},
     "output_type": "display_data"
    }
   ],
   "source": [
    "plt.scatter(future_input, future_output)\n",
    "plt.plot(future_input, predictions, 'k', linewidth=4)\n",
    "plt.legend([\"Predictions\",\"Actual Values\"])\n",
    "plt.title('Cost of Attendance vs Median Earnings')\n",
    "plt.xlabel('Cost of Attendance')\n",
    "plt.ylabel('Median Earnings')\n",
    "plt.show()"
   ]
  },
  {
   "cell_type": "markdown",
   "metadata": {
    "id": "BvW0xh21NAPl"
   },
   "source": [
    "### Summary:\n",
    "\n",
    "sklearn has an object called `ML_object_that_predicts`. We \"fit\" it on some inputs and outputs. Then, we give `ML_object_that_predicts` some more inputs, and it predicts outputs.\n",
    "\n",
    "### What we don't know:\n",
    "\n",
    "What's \"fitting\"?\n",
    "\n",
    "Why do we split the dataset up?\n",
    "\n",
    "How does the model make predictions?\n",
    "\n",
    "How do we increase the model's score (how do we make our model better)?"
   ]
  },
  {
   "cell_type": "markdown",
   "metadata": {
    "id": "ViPlXFriNAPl"
   },
   "source": [
    "# Section 2: Fitting / Training"
   ]
  },
  {
   "cell_type": "code",
   "execution_count": 15,
   "metadata": {
    "id": "D5-truzXNAPl"
   },
   "outputs": [],
   "source": [
    "section_2_data = original_data.copy()"
   ]
  },
  {
   "cell_type": "markdown",
   "metadata": {
    "id": "VmEPxGVUNAPl"
   },
   "source": [
    "The inputs are called \"features\", and the output is called the \"target\".\n",
    "\n",
    "`ML_object_that_predicts` is a \"model\""
   ]
  },
  {
   "cell_type": "code",
   "execution_count": 16,
   "metadata": {
    "id": "o8vENepXNAPl"
   },
   "outputs": [],
   "source": [
    "features = section_2_data[['cost']]\n",
    "target = section_2_data['median_earnings']\n",
    "model = LinearRegression()"
   ]
  },
  {
   "cell_type": "markdown",
   "metadata": {
    "id": "pzAQxMkYNAPl"
   },
   "source": [
    "In reality, we will train a model on known data, and that model is our product -- we're done with it, and we ship it out to be used. The user will give it new data, and the model will predict the corresponding outputs.\n",
    "We emulate that by splitting our data into \"known\" data and \"new\" data. There're a lot of synonyms for known data and new data, and we'll introduce a couple today."
   ]
  },
  {
   "cell_type": "code",
   "execution_count": 17,
   "metadata": {
    "colab": {
     "base_uri": "https://localhost:8080/"
    },
    "executionInfo": {
     "elapsed": 7,
     "status": "ok",
     "timestamp": 1646848776318,
     "user": {
      "displayName": "Kelly Lu",
      "photoUrl": "https://lh3.googleusercontent.com/a-/AOh14GhBJOcWEOJSq7Sac1aULmBnym_h98gIkXWAKxFC=s64",
      "userId": "13804689239916936151"
     },
     "user_tz": 300
    },
    "id": "ks2Xu94iNAPm",
    "outputId": "87ea2c7a-e587-491e-826e-50fc2f51deca"
   },
   "outputs": [
    {
     "name": "stdout",
     "output_type": "stream",
     "text": [
      "Score: 0.17036266107284004\n"
     ]
    }
   ],
   "source": [
    "from sklearn.model_selection import train_test_split\n",
    "known_data, new_data, known_output, goal_output = train_test_split(features, target, test_size=0.2, random_state=42)\n",
    "\n",
    "# Here, we call the values we are trying to predict the \"goal_output\".\n",
    "# Our goal is to make a model that, when given known_output, can try to predict goal_output.\n",
    "\n",
    "model.fit(known_data, known_output) # train/fit on known inputs\n",
    "predictions = model.predict(new_data) # predict on new data\n",
    "\n",
    "print(\"Score:\", model.score(new_data, goal_output))"
   ]
  },
  {
   "cell_type": "markdown",
   "metadata": {
    "id": "NaEbSYFENAPm"
   },
   "source": [
    "### Summary\n",
    "`LinearRegression()` returns a \"model\", which is an object that we first train, then use to predict values. To train, we call `model.fit` with known features and their corresponding outputs. To predict, we call `model.predict` on some new set of data, which it wasn't trained on\n",
    "\n",
    "### What we still don't know\n",
    "\n",
    "How does the model make predictions?\n",
    "\n",
    "How do we increase the model's score (how do we make our model better)?"
   ]
  },
  {
   "cell_type": "markdown",
   "metadata": {
    "id": "NRR2GSPJNAPm"
   },
   "source": [
    "# Section 3: Models"
   ]
  },
  {
   "cell_type": "code",
   "execution_count": 18,
   "metadata": {
    "id": "yOfyT02HNAPm"
   },
   "outputs": [],
   "source": [
    "section_3_data = original_data.copy()"
   ]
  },
  {
   "cell_type": "code",
   "execution_count": 19,
   "metadata": {
    "colab": {
     "base_uri": "https://localhost:8080/"
    },
    "executionInfo": {
     "elapsed": 6,
     "status": "ok",
     "timestamp": 1646848776318,
     "user": {
      "displayName": "Kelly Lu",
      "photoUrl": "https://lh3.googleusercontent.com/a-/AOh14GhBJOcWEOJSq7Sac1aULmBnym_h98gIkXWAKxFC=s64",
      "userId": "13804689239916936151"
     },
     "user_tz": 300
    },
    "id": "ei_mYCGrNAPm",
    "outputId": "59069964-97bc-499a-a5b2-ed27d6ac4d61"
   },
   "outputs": [
    {
     "data": {
      "text/plain": [
       "LinearRegression()"
      ]
     },
     "execution_count": 19,
     "metadata": {},
     "output_type": "execute_result"
    }
   ],
   "source": [
    "features = section_3_data[['cost','adm_rate']]\n",
    "target = section_3_data['median_earnings']\n",
    "x_train, x_test, y_train, y_test = train_test_split(features, target, test_size=0.2, random_state=42)\n",
    "model = LinearRegression()\n",
    "model.fit(x_train, y_train)"
   ]
  },
  {
   "cell_type": "markdown",
   "metadata": {
    "id": "1Fyp5YvvNAPm"
   },
   "source": [
    "Running the following cell will pull up a description of `model`."
   ]
  },
  {
   "cell_type": "code",
   "execution_count": 32,
   "metadata": {
    "id": "fD0YvplaNAPn"
   },
   "outputs": [],
   "source": [
    "# if the popup annoys you, then feel free to comment out the following line\n",
    "model?"
   ]
  },
  {
   "cell_type": "code",
   "execution_count": 21,
   "metadata": {
    "colab": {
     "base_uri": "https://localhost:8080/"
    },
    "executionInfo": {
     "elapsed": 15,
     "status": "ok",
     "timestamp": 1646848776504,
     "user": {
      "displayName": "Kelly Lu",
      "photoUrl": "https://lh3.googleusercontent.com/a-/AOh14GhBJOcWEOJSq7Sac1aULmBnym_h98gIkXWAKxFC=s64",
      "userId": "13804689239916936151"
     },
     "user_tz": 300
    },
    "id": "AXZQ7npvNAPn",
    "outputId": "ca1e67a4-8156-4a48-99ff-98e311e73741"
   },
   "outputs": [
    {
     "data": {
      "text/plain": [
       "array([ 3.14511519e-01, -8.76543392e+03])"
      ]
     },
     "execution_count": 21,
     "metadata": {},
     "output_type": "execute_result"
    }
   ],
   "source": [
    "model.coef_"
   ]
  },
  {
   "cell_type": "code",
   "execution_count": 22,
   "metadata": {
    "colab": {
     "base_uri": "https://localhost:8080/"
    },
    "executionInfo": {
     "elapsed": 16,
     "status": "ok",
     "timestamp": 1646848776505,
     "user": {
      "displayName": "Kelly Lu",
      "photoUrl": "https://lh3.googleusercontent.com/a-/AOh14GhBJOcWEOJSq7Sac1aULmBnym_h98gIkXWAKxFC=s64",
      "userId": "13804689239916936151"
     },
     "user_tz": 300
    },
    "id": "8DnsPOOSNAPn",
    "outputId": "cad8cf6c-5f17-42bd-c7ef-2ee30199d1fc"
   },
   "outputs": [
    {
     "data": {
      "text/plain": [
       "37049.97200951681"
      ]
     },
     "execution_count": 22,
     "metadata": {},
     "output_type": "execute_result"
    }
   ],
   "source": [
    "model.intercept_"
   ]
  },
  {
   "cell_type": "markdown",
   "metadata": {
    "id": "tFy8uK1ZNAPn"
   },
   "source": [
    "`model` is a linear regression model of the form $y = B_1*x_1 + B_2*x_2 + k$, where:\n",
    "\n",
    "$y = $ median_earnings, our target\n",
    "\n",
    "$x_1 = $ cost\n",
    "\n",
    "$B_1 = 3.14511519e-01$, the coefficient on cost\n",
    "\n",
    "$x_2 = $ admission rate\n",
    "\n",
    "$B_2 = -8.76543392e+03$, the coefficient on admission rate\n",
    "\n",
    "$k = 37049.972$, the intercept. \n",
    "\n",
    "We won't talk too much about the intercept in this class, but if you're interested in learning more, feel free to ask us after class.\n",
    "\n",
    "Say you have information about a school's cost and admission rate. Then, `model` can use the school's cost and admission rate to predict the school's median earnings. How does it do that? It calculates $predicted\\_median\\_earnings = B_1*cost + B_2 * x_2$\n",
    "\n",
    "Let's try this out on an example."
   ]
  },
  {
   "cell_type": "code",
   "execution_count": 23,
   "metadata": {
    "colab": {
     "base_uri": "https://localhost:8080/",
     "height": 159
    },
    "executionInfo": {
     "elapsed": 14,
     "status": "ok",
     "timestamp": 1646848776505,
     "user": {
      "displayName": "Kelly Lu",
      "photoUrl": "https://lh3.googleusercontent.com/a-/AOh14GhBJOcWEOJSq7Sac1aULmBnym_h98gIkXWAKxFC=s64",
      "userId": "13804689239916936151"
     },
     "user_tz": 300
    },
    "id": "IGEZ1tMjNAPn",
    "outputId": "303be803-8ec8-4dc2-a93d-c5b472d4075f"
   },
   "outputs": [
    {
     "data": {
      "text/html": [
       "<div>\n",
       "<style scoped>\n",
       "    .dataframe tbody tr th:only-of-type {\n",
       "        vertical-align: middle;\n",
       "    }\n",
       "\n",
       "    .dataframe tbody tr th {\n",
       "        vertical-align: top;\n",
       "    }\n",
       "\n",
       "    .dataframe thead th {\n",
       "        text-align: right;\n",
       "    }\n",
       "</style>\n",
       "<table border=\"1\" class=\"dataframe\">\n",
       "  <thead>\n",
       "    <tr style=\"text-align: right;\">\n",
       "      <th></th>\n",
       "      <th>name</th>\n",
       "      <th>city</th>\n",
       "      <th>state</th>\n",
       "      <th>adm_rate</th>\n",
       "      <th>undergrads</th>\n",
       "      <th>cost</th>\n",
       "      <th>compl_4</th>\n",
       "      <th>median_hh_inc</th>\n",
       "      <th>median_earnings</th>\n",
       "    </tr>\n",
       "  </thead>\n",
       "  <tbody>\n",
       "    <tr>\n",
       "      <th>1</th>\n",
       "      <td>University of Alabama at Birmingham</td>\n",
       "      <td>Birmingham</td>\n",
       "      <td>AL</td>\n",
       "      <td>0.6043</td>\n",
       "      <td>11269</td>\n",
       "      <td>22232</td>\n",
       "      <td>0.3173</td>\n",
       "      <td>55735.22</td>\n",
       "      <td>40200</td>\n",
       "    </tr>\n",
       "  </tbody>\n",
       "</table>\n",
       "</div>"
      ],
      "text/plain": [
       "                                  name        city state  adm_rate  \\\n",
       "1  University of Alabama at Birmingham  Birmingham    AL    0.6043   \n",
       "\n",
       "   undergrads   cost  compl_4  median_hh_inc  median_earnings  \n",
       "1       11269  22232   0.3173       55735.22            40200  "
      ]
     },
     "execution_count": 23,
     "metadata": {},
     "output_type": "execute_result"
    }
   ],
   "source": [
    "section_3_data.loc[1:1]"
   ]
  },
  {
   "cell_type": "code",
   "execution_count": 24,
   "metadata": {
    "id": "d3KdJRN2NAPn"
   },
   "outputs": [],
   "source": [
    "example_cost = 22232\n",
    "example_admission_rate = 0.6043"
   ]
  },
  {
   "cell_type": "code",
   "execution_count": 25,
   "metadata": {
    "colab": {
     "base_uri": "https://localhost:8080/"
    },
    "executionInfo": {
     "elapsed": 13,
     "status": "ok",
     "timestamp": 1646848776505,
     "user": {
      "displayName": "Kelly Lu",
      "photoUrl": "https://lh3.googleusercontent.com/a-/AOh14GhBJOcWEOJSq7Sac1aULmBnym_h98gIkXWAKxFC=s64",
      "userId": "13804689239916936151"
     },
     "user_tz": 300
    },
    "id": "Jex8E8wCNAPo",
    "outputId": "4a1f821a-babf-49bd-8036-a1da534fde5f"
   },
   "outputs": [
    {
     "name": "stdout",
     "output_type": "stream",
     "text": [
      "38745.240382799544\n"
     ]
    }
   ],
   "source": [
    "B1 = model.coef_[0]\n",
    "B2 = model.coef_[1]\n",
    "k = model.intercept_\n",
    "manually_predicted_median_earnings = B1 * example_cost + B2 * example_admission_rate + k\n",
    "print(manually_predicted_median_earnings)"
   ]
  },
  {
   "cell_type": "code",
   "execution_count": 26,
   "metadata": {
    "colab": {
     "base_uri": "https://localhost:8080/"
    },
    "executionInfo": {
     "elapsed": 12,
     "status": "ok",
     "timestamp": 1646848776505,
     "user": {
      "displayName": "Kelly Lu",
      "photoUrl": "https://lh3.googleusercontent.com/a-/AOh14GhBJOcWEOJSq7Sac1aULmBnym_h98gIkXWAKxFC=s64",
      "userId": "13804689239916936151"
     },
     "user_tz": 300
    },
    "id": "G5GP_f3NNAPo",
    "outputId": "ccfd7a7e-06ac-4ea4-d115-c25e5fb171f2"
   },
   "outputs": [
    {
     "name": "stderr",
     "output_type": "stream",
     "text": [
      "C:\\ProgramData\\Anaconda3\\lib\\site-packages\\sklearn\\base.py:450: UserWarning: X does not have valid feature names, but LinearRegression was fitted with feature names\n",
      "  warnings.warn(\n"
     ]
    },
    {
     "data": {
      "text/plain": [
       "38745.240382799544"
      ]
     },
     "execution_count": 26,
     "metadata": {},
     "output_type": "execute_result"
    }
   ],
   "source": [
    "model.predict([[example_cost,example_admission_rate]])[0]"
   ]
  },
  {
   "cell_type": "markdown",
   "metadata": {
    "id": "bRL2Im0kNAPo"
   },
   "source": [
    "The two results were the same. From this, we can conclude that `model.predict` is really just outputting $B_1*x_1 + B_2*x_2 + k$.\n",
    "\n",
    "(When we look at other algorithms in later lectures, the equation will be different. However, the general idea is the same: `model.fit` created an equation, and `model.predict` uses that equation)"
   ]
  },
  {
   "cell_type": "markdown",
   "metadata": {
    "id": "KgG5y0s8NAPo"
   },
   "source": [
    "### Summary\n",
    "Our `model` is an object. When we train it (by calling `model.fit`), we're setting its parameters (for example, $B_1$, $B_2$, and k). When we predict (by calling `model.predict(new_data)`), `model` is applying a function to each row of `new_data` in order to get a prediction.\n",
    "\n",
    "\n",
    "### What we still don't know\n",
    "\n",
    "How do we increase the model's score (how do we make our model better)?"
   ]
  },
  {
   "cell_type": "markdown",
   "metadata": {
    "id": "yEWnrQAaNAPo"
   },
   "source": [
    "## Problem 2 (4 points)\n",
    "\n",
    "Use 'cost' and 'compl_4' to predict 'median_earnings'.\n",
    "\n",
    "Use a train test split of 25% as a test set (not 20%, which all the previous examples used).\n",
    "\n",
    "Print out the median_earnings predicted for the test set. Also print out the model's score."
   ]
  },
  {
   "cell_type": "code",
   "execution_count": 27,
   "metadata": {
    "id": "SVGTfppoNAPp"
   },
   "outputs": [],
   "source": [
    "problem_2_data = original_data.copy()"
   ]
  },
  {
   "cell_type": "code",
   "execution_count": 35,
   "metadata": {
    "id": "C27DAGPmNAPp"
   },
   "outputs": [
    {
     "name": "stdout",
     "output_type": "stream",
     "text": [
      "Score: 0.2717041577530157\n"
     ]
    }
   ],
   "source": [
    "# Fill in this cell with your code. We've provided helpful psuedocode.\n",
    "\n",
    "# define X = the cost and compl_4 columns\n",
    "X = problem_2_data[['cost','compl_4']]\n",
    "# define Y = median_earnings\n",
    "Y = problem_2_data['median_earnings']\n",
    "# split X and Y into train and test sets (using sklearn)\n",
    "x_train, x_test, y_train, y_test = train_test_split(X, Y, test_size=0.25, random_state=42)\n",
    "# create your model\n",
    "model = LinearRegression()\n",
    "# fit your model\n",
    "model.fit(x_train, y_train)\n",
    "# predict and print out the median earnings for the test set\n",
    "ML_object_that_predicts.fit(X, Y)\n",
    "predictions = ML_object_that_predicts.predict(X) \n",
    "# print out the score\n",
    "print(\"Score:\", model.score(x_test, y_test))"
   ]
  },
  {
   "cell_type": "markdown",
   "metadata": {
    "id": "XH7sULOxNAPp"
   },
   "source": [
    "# Section 4: Validation and Testing"
   ]
  },
  {
   "cell_type": "code",
   "execution_count": 36,
   "metadata": {
    "id": "Nr2GQA6FNAPp"
   },
   "outputs": [],
   "source": [
    "section_4_data = original_data.copy()"
   ]
  },
  {
   "cell_type": "code",
   "execution_count": 37,
   "metadata": {
    "colab": {
     "base_uri": "https://localhost:8080/"
    },
    "executionInfo": {
     "elapsed": 630,
     "status": "ok",
     "timestamp": 1646848777124,
     "user": {
      "displayName": "Kelly Lu",
      "photoUrl": "https://lh3.googleusercontent.com/a-/AOh14GhBJOcWEOJSq7Sac1aULmBnym_h98gIkXWAKxFC=s64",
      "userId": "13804689239916936151"
     },
     "user_tz": 300
    },
    "id": "FUSySPoSNAPp",
    "outputId": "bf9a6a00-67ae-4b61-f5ec-2a9f502c3d03"
   },
   "outputs": [
    {
     "name": "stdout",
     "output_type": "stream",
     "text": [
      "training score: 0.7699638512800674\n",
      "validation score: -1883102385993.4475\n"
     ]
    }
   ],
   "source": [
    "X = section_4_data.drop([\"name\",\"median_earnings\"], axis=1) # use all columns except name and median_earnings\n",
    "X = pd.get_dummies(X) # transform categorical columns so we can use them in linear regression\n",
    "Y = section_4_data[\"median_earnings\"]\n",
    "\n",
    "x_train, x_test, y_train, y_test = train_test_split(X, Y, test_size=0.2, random_state=42)\n",
    "\n",
    "model = LinearRegression()\n",
    "model.fit(x_train, y_train) # train on train set\n",
    "\n",
    "print(\"training score:\", model.score(x_train,y_train)) # how accurately did model capture training set relationship?\n",
    "print(\"validation score:\", model.score(x_test,y_test)) # how well can model predict new things?"
   ]
  },
  {
   "cell_type": "markdown",
   "metadata": {
    "id": "xN-U--qdNAPp"
   },
   "source": [
    "## Problem 3 (2 points)\n",
    "\n",
    "### Replace the 'None' values below with appropriate values to create a train-validate-test split."
   ]
  },
  {
   "cell_type": "code",
   "execution_count": 46,
   "metadata": {
    "id": "uCTW5jwYNAPq"
   },
   "outputs": [
    {
     "name": "stdout",
     "output_type": "stream",
     "text": [
      "training score: 0.1920516791474396\n",
      "validation score: 0.17036266107284004\n"
     ]
    }
   ],
   "source": [
    "problem_3_data = original_data.copy()\n",
    "\n",
    "X = problem_3_data[[\"cost\"]] # TODO\n",
    "Y = problem_3_data[\"median_earnings\"]\n",
    "x_not_test, x_test, y_not_test, y_test = train_test_split(X, Y, test_size=0.2, random_state=42)\n",
    "x_train, x_valid, y_train, y_valid = train_test_split(X, Y, test_size=0.20, random_state=42)\n",
    "\n",
    "model = LinearRegression()\n",
    "\n",
    "# training\n",
    "model.fit(x_train, y_train) # TODO\n",
    "\n",
    "print(\"training score:\", model.score(x_train,y_train))\n",
    "print(\"validation score:\", model.score(x_valid,y_valid))"
   ]
  },
  {
   "cell_type": "code",
   "execution_count": 47,
   "metadata": {
    "id": "dJV61VnGNAPq"
   },
   "outputs": [
    {
     "name": "stdout",
     "output_type": "stream",
     "text": [
      "testing score: 0.17036266107284004\n"
     ]
    }
   ],
   "source": [
    "print(\"testing score:\", model.score(x_test,y_test))"
   ]
  },
  {
   "cell_type": "markdown",
   "metadata": {
    "id": "UwKtQS0tNAPq"
   },
   "source": [
    "## Problem 4 (3 points)\n",
    "\n",
    "Use 'median_earnings' to predict 'median_earnings'.\n",
    "\n",
    "Remember to create a train-test split (use whatever percentage of test set you want).\n",
    "\n",
    "Print out the coefficients. Print out the model's score. Briefly explain why you got the coefficients and accuracy that you got."
   ]
  },
  {
   "cell_type": "code",
   "execution_count": null,
   "metadata": {
    "id": "kwLmFeUINAPr"
   },
   "outputs": [],
   "source": [
    "problem_4_data = original_data.copy()"
   ]
  },
  {
   "cell_type": "code",
   "execution_count": 39,
   "metadata": {
    "id": "Vkrus9DDNAPr"
   },
   "outputs": [
    {
     "data": {
      "text/plain": [
       "LinearRegression()"
      ]
     },
     "execution_count": 39,
     "metadata": {},
     "output_type": "execute_result"
    }
   ],
   "source": [
    "# split data and create model\n",
    "X = problem_2_data[['median_earnings']]\n",
    "Y = problem_2_data['median_earnings']\n",
    "x_train, x_test, y_train, y_test = train_test_split(X, Y, test_size=0.30, random_state=42)\n",
    "model = LinearRegression()\n",
    "\n",
    "model.fit(x_train, y_train)"
   ]
  },
  {
   "cell_type": "code",
   "execution_count": 41,
   "metadata": {
    "id": "A1fZCPZrNAPr"
   },
   "outputs": [
    {
     "name": "stdout",
     "output_type": "stream",
     "text": [
      "training score: 1.0\n",
      "validation score: 1.0\n",
      "testing score: 1.0\n"
     ]
    }
   ],
   "source": [
    "# print out coefficient and score\n",
    "print(\"training score:\", model.score(x_train,y_train))\n",
    "print(\"validation score:\", model.score(x_test,y_test))\n",
    "print(\"testing score:\", model.score(x_test,y_test))"
   ]
  },
  {
   "cell_type": "markdown",
   "metadata": {
    "id": "rNi_YG_wNAPr"
   },
   "source": [
    "#### Briefly explain why you got the coefficients and score that you got. \n",
    "\n",
    "As the model is training to map the median_earnings to median_earnings it will create a perfect mapping due to the fact the linear regresion can find the \"prefect\" connection between the two identiacal datasets at they are identical."
   ]
  },
  {
   "cell_type": "markdown",
   "metadata": {
    "id": "4EVkVjxHNAPr"
   },
   "source": [
    "## Problem 5 (optional)\n",
    "\n",
    "Linear regression does well with variables that are correlated. Look up how to print out the correlation matrix of a pandas dataframe.\n",
    "\n",
    "Looking at the correlation matrix, pick at least 3 features that have a low (between -0.5 and 0.5) correlation with median_earnings and plot scatterplots of each of them against median_earnings.\n",
    "Using these scatterplot, pick one of the features and try a few transformations that might increase its correlation with median_earnings. That is, create new features (columns) and see what their correlation with median_earnings is.\n",
    "\n",
    "Create a model using one of these new features, as well as other features that are well correlated with median_earnings, as features. Print out the score."
   ]
  },
  {
   "cell_type": "code",
   "execution_count": null,
   "metadata": {
    "id": "ymdrLA3XNAPr"
   },
   "outputs": [],
   "source": [
    "problem_5_data = original_data.copy()"
   ]
  },
  {
   "cell_type": "code",
   "execution_count": null,
   "metadata": {
    "id": "87XZ8LHuNAPr"
   },
   "outputs": [],
   "source": [
    "# print out correlation matrix"
   ]
  },
  {
   "cell_type": "code",
   "execution_count": null,
   "metadata": {
    "id": "zpeoTpw-NAPr"
   },
   "outputs": [],
   "source": [
    "# make scatter plots"
   ]
  },
  {
   "cell_type": "code",
   "execution_count": null,
   "metadata": {
    "id": "GMMMA4ffNAPs"
   },
   "outputs": [],
   "source": []
  },
  {
   "cell_type": "code",
   "execution_count": null,
   "metadata": {
    "id": "eihekHE_NAPs"
   },
   "outputs": [],
   "source": []
  },
  {
   "cell_type": "code",
   "execution_count": null,
   "metadata": {
    "id": "ilLX3YmuNAPs"
   },
   "outputs": [],
   "source": []
  },
  {
   "cell_type": "code",
   "execution_count": null,
   "metadata": {
    "id": "Qd3NwkGXNAPs"
   },
   "outputs": [],
   "source": [
    "# create new features"
   ]
  },
  {
   "cell_type": "code",
   "execution_count": null,
   "metadata": {
    "id": "08XGo-1WNAPs"
   },
   "outputs": [],
   "source": []
  },
  {
   "cell_type": "code",
   "execution_count": null,
   "metadata": {
    "id": "kieo6ORINAPs"
   },
   "outputs": [],
   "source": []
  },
  {
   "cell_type": "code",
   "execution_count": null,
   "metadata": {
    "id": "SuVJvWyTNAPs"
   },
   "outputs": [],
   "source": []
  },
  {
   "cell_type": "code",
   "execution_count": null,
   "metadata": {
    "id": "_547h7BdNAPs"
   },
   "outputs": [],
   "source": [
    "# create model"
   ]
  },
  {
   "cell_type": "code",
   "execution_count": null,
   "metadata": {
    "id": "yLTO1xabNAPt"
   },
   "outputs": [],
   "source": []
  },
  {
   "cell_type": "code",
   "execution_count": null,
   "metadata": {
    "id": "58Q8JkDSNAPt"
   },
   "outputs": [],
   "source": [
    "# get score"
   ]
  },
  {
   "cell_type": "code",
   "execution_count": null,
   "metadata": {
    "id": "vlBa1nZ5NAPt"
   },
   "outputs": [],
   "source": []
  }
 ],
 "metadata": {
  "colab": {
   "collapsed_sections": [
    "BvW0xh21NAPl",
    "NaEbSYFENAPm",
    "KgG5y0s8NAPo",
    "rNi_YG_wNAPr"
   ],
   "provenance": []
  },
  "kernelspec": {
   "display_name": "Python 3 (ipykernel)",
   "language": "python",
   "name": "python3"
  },
  "language_info": {
   "codemirror_mode": {
    "name": "ipython",
    "version": 3
   },
   "file_extension": ".py",
   "mimetype": "text/x-python",
   "name": "python",
   "nbconvert_exporter": "python",
   "pygments_lexer": "ipython3",
   "version": "3.9.13"
  },
  "notebookId": "^EG=G=bpDp\\gp",
  "vscode": {
   "interpreter": {
    "hash": "397704579725e15f5c7cb49fe5f0341eb7531c82d19f2c29d197e8b64ab5776b"
   }
  }
 },
 "nbformat": 4,
 "nbformat_minor": 1
}
